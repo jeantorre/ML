{
 "cells": [
  {
   "cell_type": "code",
   "execution_count": 48,
   "metadata": {},
   "outputs": [],
   "source": [
    "import pandas as pd\n",
    "import os"
   ]
  },
  {
   "cell_type": "code",
   "execution_count": 59,
   "metadata": {},
   "outputs": [],
   "source": [
    "df_airports = pd.DataFrame(pd.read_csv('https://raw.githubusercontent.com/jpatokal/openflights/master/data/airports.dat', sep = \",\", decimal = '.', header = None))"
   ]
  },
  {
   "cell_type": "code",
   "execution_count": 60,
   "metadata": {},
   "outputs": [
    {
     "data": {
      "text/plain": [
       "Index([0, 1, 2, 3, 4, 5, 6, 7, 8, 9, 10, 11, 12, 13], dtype='int64')"
      ]
     },
     "execution_count": 60,
     "metadata": {},
     "output_type": "execute_result"
    }
   ],
   "source": [
    "df_airports.columns"
   ]
  },
  {
   "cell_type": "code",
   "execution_count": 61,
   "metadata": {},
   "outputs": [],
   "source": [
    "df_airports.rename(columns = {0: 'Airport_ID', 1: 'Name', 2: 'City', 3: 'Country', \n",
    "                              4: 'IATA', 5: 'ICAO', 6: 'Latitude', 7: 'Longitude',\n",
    "                              8: 'Altitude', 9:'Timezone', 10: 'DST', 11: 'Tz_database', \n",
    "                              12: 'Type', 13: 'Source'}, inplace = True)"
   ]
  },
  {
   "cell_type": "code",
   "execution_count": 62,
   "metadata": {},
   "outputs": [
    {
     "name": "stdout",
     "output_type": "stream",
     "text": [
      "<class 'pandas.core.frame.DataFrame'>\n",
      "RangeIndex: 7698 entries, 0 to 7697\n",
      "Data columns (total 14 columns):\n",
      " #   Column       Non-Null Count  Dtype  \n",
      "---  ------       --------------  -----  \n",
      " 0   Airport_ID   7698 non-null   int64  \n",
      " 1   Name         7698 non-null   object \n",
      " 2   City         7649 non-null   object \n",
      " 3   Country      7698 non-null   object \n",
      " 4   IATA         7698 non-null   object \n",
      " 5   ICAO         7698 non-null   object \n",
      " 6   Latitude     7698 non-null   float64\n",
      " 7   Longitude    7698 non-null   float64\n",
      " 8   Altitude     7698 non-null   int64  \n",
      " 9   Timezone     7698 non-null   object \n",
      " 10  DST          7698 non-null   object \n",
      " 11  Tz_database  7698 non-null   object \n",
      " 12  Type         7698 non-null   object \n",
      " 13  Source       7698 non-null   object \n",
      "dtypes: float64(2), int64(2), object(10)\n",
      "memory usage: 842.1+ KB\n"
     ]
    }
   ],
   "source": [
    "df_airports.info()"
   ]
  },
  {
   "cell_type": "code",
   "execution_count": 108,
   "metadata": {},
   "outputs": [
    {
     "data": {
      "text/plain": [
       "False"
      ]
     },
     "execution_count": 108,
     "metadata": {},
     "output_type": "execute_result"
    }
   ],
   "source": [
    "df_airports['Airport_ID'].duplicated().any()"
   ]
  },
  {
   "cell_type": "code",
   "execution_count": 72,
   "metadata": {},
   "outputs": [
    {
     "data": {
      "text/plain": [
       "array([-351])"
      ]
     },
     "execution_count": 72,
     "metadata": {},
     "output_type": "execute_result"
    }
   ],
   "source": [
    "jorge_airport = df_airports[df_airports.Name == 'Jorge Newbery Airpark']\n",
    "altamira_airport = df_airports[df_airports.Name == 'Altamira Airport']\n",
    "dif_altitude = jorge_airport['Altitude'].values - altamira_airport['Altitude'].values\n",
    "\n",
    "dif_altitude\n"
   ]
  },
  {
   "cell_type": "code",
   "execution_count": 137,
   "metadata": {},
   "outputs": [
    {
     "data": {
      "text/plain": [
       "Airport_ID    3\n",
       "dtype: int64"
      ]
     },
     "execution_count": 137,
     "metadata": {},
     "output_type": "execute_result"
    }
   ],
   "source": [
    "df_airports[df_airports['City'] == 'Sao Paulo'].count().head(1)"
   ]
  },
  {
   "cell_type": "code",
   "execution_count": 136,
   "metadata": {},
   "outputs": [
    {
     "data": {
      "text/plain": [
       "Airport_ID    264\n",
       "dtype: int64"
      ]
     },
     "execution_count": 136,
     "metadata": {},
     "output_type": "execute_result"
    }
   ],
   "source": [
    "df_airports[df_airports['Country'] == 'Brazil'].count().head(1)\n"
   ]
  },
  {
   "cell_type": "code",
   "execution_count": 135,
   "metadata": {},
   "outputs": [
    {
     "data": {
      "text/plain": [
       "City\n",
       "London      9\n",
       "Columbus    8\n",
       "San Jose    7\n",
       "Name: Airport_ID, dtype: int64"
      ]
     },
     "execution_count": 135,
     "metadata": {},
     "output_type": "execute_result"
    }
   ],
   "source": [
    "df_airports.groupby(['City'])['Airport_ID'].nunique().sort_values(ascending = False).head(3)"
   ]
  },
  {
   "cell_type": "code",
   "execution_count": 134,
   "metadata": {},
   "outputs": [
    {
     "data": {
      "text/plain": [
       "Country\n",
       "United States    1512\n",
       "Canada            430\n",
       "Australia         334\n",
       "Name: Airport_ID, dtype: int64"
      ]
     },
     "execution_count": 134,
     "metadata": {},
     "output_type": "execute_result"
    }
   ],
   "source": [
    "df_airports.groupby(['Country'])['Airport_ID'].nunique().sort_values(ascending = False).head(3)\n"
   ]
  },
  {
   "cell_type": "code",
   "execution_count": 132,
   "metadata": {},
   "outputs": [
    {
     "data": {
      "text/html": [
       "<div>\n",
       "<style scoped>\n",
       "    .dataframe tbody tr th:only-of-type {\n",
       "        vertical-align: middle;\n",
       "    }\n",
       "\n",
       "    .dataframe tbody tr th {\n",
       "        vertical-align: top;\n",
       "    }\n",
       "\n",
       "    .dataframe thead th {\n",
       "        text-align: right;\n",
       "    }\n",
       "</style>\n",
       "<table border=\"1\" class=\"dataframe\">\n",
       "  <thead>\n",
       "    <tr style=\"text-align: right;\">\n",
       "      <th></th>\n",
       "      <th>Airport_ID</th>\n",
       "      <th>Name</th>\n",
       "      <th>City</th>\n",
       "      <th>Country</th>\n",
       "      <th>IATA</th>\n",
       "      <th>ICAO</th>\n",
       "      <th>Latitude</th>\n",
       "      <th>Longitude</th>\n",
       "      <th>Altitude</th>\n",
       "      <th>Timezone</th>\n",
       "      <th>DST</th>\n",
       "      <th>Tz_database</th>\n",
       "      <th>Type</th>\n",
       "      <th>Source</th>\n",
       "    </tr>\n",
       "  </thead>\n",
       "  <tbody>\n",
       "    <tr>\n",
       "      <th>6542</th>\n",
       "      <td>9310</td>\n",
       "      <td>Daocheng Yading Airport</td>\n",
       "      <td>Daocheng</td>\n",
       "      <td>China</td>\n",
       "      <td>DCY</td>\n",
       "      <td>ZUDC</td>\n",
       "      <td>29.323056</td>\n",
       "      <td>100.053333</td>\n",
       "      <td>14472</td>\n",
       "      <td>8</td>\n",
       "      <td>N</td>\n",
       "      <td>Asia/Shanghai</td>\n",
       "      <td>airport</td>\n",
       "      <td>OurAirports</td>\n",
       "    </tr>\n",
       "  </tbody>\n",
       "</table>\n",
       "</div>"
      ],
      "text/plain": [
       "      Airport_ID                     Name      City Country IATA  ICAO  \\\n",
       "6542        9310  Daocheng Yading Airport  Daocheng   China  DCY  ZUDC   \n",
       "\n",
       "       Latitude   Longitude  Altitude Timezone DST    Tz_database     Type  \\\n",
       "6542  29.323056  100.053333     14472        8   N  Asia/Shanghai  airport   \n",
       "\n",
       "           Source  \n",
       "6542  OurAirports  "
      ]
     },
     "execution_count": 132,
     "metadata": {},
     "output_type": "execute_result"
    }
   ],
   "source": [
    "df_airports.sort_values(by = 'Altitude', ascending = False).head(1)"
   ]
  },
  {
   "cell_type": "code",
   "execution_count": 133,
   "metadata": {},
   "outputs": [
    {
     "data": {
      "text/plain": [
       "1126.22"
      ]
     },
     "execution_count": 133,
     "metadata": {},
     "output_type": "execute_result"
    }
   ],
   "source": [
    "brazil_airport = df_airports[df_airports.Country == 'Brazil']\n",
    "round(brazil_airport['Altitude'].mean(), 2)"
   ]
  },
  {
   "cell_type": "code",
   "execution_count": 124,
   "metadata": {},
   "outputs": [
    {
     "data": {
      "text/plain": [
       "7"
      ]
     },
     "execution_count": 124,
     "metadata": {},
     "output_type": "execute_result"
    }
   ],
   "source": [
    "df_airports[df_airports.DST != '\\\\N']['DST'].nunique()"
   ]
  },
  {
   "cell_type": "code",
   "execution_count": 131,
   "metadata": {},
   "outputs": [
    {
     "data": {
      "text/plain": [
       "237"
      ]
     },
     "execution_count": 131,
     "metadata": {},
     "output_type": "execute_result"
    }
   ],
   "source": [
    "df_airports['Country'].nunique()"
   ]
  }
 ],
 "metadata": {
  "kernelspec": {
   "display_name": "Python 3",
   "language": "python",
   "name": "python3"
  },
  "language_info": {
   "codemirror_mode": {
    "name": "ipython",
    "version": 3
   },
   "file_extension": ".py",
   "mimetype": "text/x-python",
   "name": "python",
   "nbconvert_exporter": "python",
   "pygments_lexer": "ipython3",
   "version": "3.10.12"
  },
  "orig_nbformat": 4
 },
 "nbformat": 4,
 "nbformat_minor": 2
}
