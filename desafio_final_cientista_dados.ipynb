{
 "cells": [
  {
   "cell_type": "markdown",
   "metadata": {},
   "source": [
    "## Bibliotecas"
   ]
  },
  {
   "cell_type": "code",
   "execution_count": 2,
   "metadata": {},
   "outputs": [],
   "source": [
    "import pandas as pd\n",
    "import numpy\n",
    "\n",
    "import os"
   ]
  },
  {
   "cell_type": "code",
   "execution_count": 3,
   "metadata": {},
   "outputs": [],
   "source": [
    "os.chdir('D:/jean_/OneDrive/Cursos/MBA Data Science & Machine Learning/Cientista de Dados/DESF/documents/')\n",
    "\n",
    "diretorio_atual = os.getcwd()"
   ]
  },
  {
   "cell_type": "code",
   "execution_count": 4,
   "metadata": {},
   "outputs": [],
   "source": [
    "df_dados_medicos = pd.read_excel('dados_medicos.xlsx')\n",
    "df_dados_pacientes = pd.read_csv('dados_pacientes.csv', sep = ';', decimal = '.', encoding = 'ISO-8859-1')\n",
    "df_estados_brasileiro = pd.read_csv('estados_brasileiros.csv', sep = ';', encoding = 'ISO-8859-1')"
   ]
  },
  {
   "cell_type": "markdown",
   "metadata": {},
   "source": [
    "## Tratamentos dos dados"
   ]
  },
  {
   "cell_type": "markdown",
   "metadata": {},
   "source": [
    "### Dados médicos"
   ]
  },
  {
   "cell_type": "code",
   "execution_count": 5,
   "metadata": {},
   "outputs": [
    {
     "data": {
      "text/html": [
       "<div>\n",
       "<style scoped>\n",
       "    .dataframe tbody tr th:only-of-type {\n",
       "        vertical-align: middle;\n",
       "    }\n",
       "\n",
       "    .dataframe tbody tr th {\n",
       "        vertical-align: top;\n",
       "    }\n",
       "\n",
       "    .dataframe thead th {\n",
       "        text-align: right;\n",
       "    }\n",
       "</style>\n",
       "<table border=\"1\" class=\"dataframe\">\n",
       "  <thead>\n",
       "    <tr style=\"text-align: right;\">\n",
       "      <th></th>\n",
       "      <th>id_cliente</th>\n",
       "      <th>peso</th>\n",
       "      <th>colesterol</th>\n",
       "    </tr>\n",
       "  </thead>\n",
       "  <tbody>\n",
       "    <tr>\n",
       "      <th>0</th>\n",
       "      <td>1</td>\n",
       "      <td>102.0</td>\n",
       "      <td>111</td>\n",
       "    </tr>\n",
       "    <tr>\n",
       "      <th>1</th>\n",
       "      <td>2</td>\n",
       "      <td>115.0</td>\n",
       "      <td>135</td>\n",
       "    </tr>\n",
       "    <tr>\n",
       "      <th>2</th>\n",
       "      <td>3</td>\n",
       "      <td>115.0</td>\n",
       "      <td>136</td>\n",
       "    </tr>\n",
       "    <tr>\n",
       "      <th>3</th>\n",
       "      <td>4</td>\n",
       "      <td>140.0</td>\n",
       "      <td>167</td>\n",
       "    </tr>\n",
       "    <tr>\n",
       "      <th>4</th>\n",
       "      <td>5</td>\n",
       "      <td>130.0</td>\n",
       "      <td>158</td>\n",
       "    </tr>\n",
       "  </tbody>\n",
       "</table>\n",
       "</div>"
      ],
      "text/plain": [
       "   id_cliente   peso  colesterol\n",
       "0           1  102.0         111\n",
       "1           2  115.0         135\n",
       "2           3  115.0         136\n",
       "3           4  140.0         167\n",
       "4           5  130.0         158"
      ]
     },
     "execution_count": 5,
     "metadata": {},
     "output_type": "execute_result"
    }
   ],
   "source": [
    "df_dados_medicos.head(5)"
   ]
  },
  {
   "cell_type": "code",
   "execution_count": 6,
   "metadata": {},
   "outputs": [
    {
     "name": "stdout",
     "output_type": "stream",
     "text": [
      "<class 'pandas.core.frame.DataFrame'>\n",
      "RangeIndex: 547 entries, 0 to 546\n",
      "Data columns (total 3 columns):\n",
      " #   Column      Non-Null Count  Dtype  \n",
      "---  ------      --------------  -----  \n",
      " 0   id_cliente  547 non-null    int64  \n",
      " 1   peso        542 non-null    float64\n",
      " 2   colesterol  547 non-null    int64  \n",
      "dtypes: float64(1), int64(2)\n",
      "memory usage: 12.9 KB\n"
     ]
    }
   ],
   "source": [
    "df_dados_medicos.info()"
   ]
  },
  {
   "cell_type": "code",
   "execution_count": 7,
   "metadata": {},
   "outputs": [
    {
     "data": {
      "text/plain": [
       "id_cliente    0\n",
       "peso          5\n",
       "colesterol    0\n",
       "dtype: int64"
      ]
     },
     "execution_count": 7,
     "metadata": {},
     "output_type": "execute_result"
    }
   ],
   "source": [
    "df_dados_medicos.isnull().sum()"
   ]
  },
  {
   "cell_type": "code",
   "execution_count": 8,
   "metadata": {},
   "outputs": [
    {
     "data": {
      "text/html": [
       "<div>\n",
       "<style scoped>\n",
       "    .dataframe tbody tr th:only-of-type {\n",
       "        vertical-align: middle;\n",
       "    }\n",
       "\n",
       "    .dataframe tbody tr th {\n",
       "        vertical-align: top;\n",
       "    }\n",
       "\n",
       "    .dataframe thead th {\n",
       "        text-align: right;\n",
       "    }\n",
       "</style>\n",
       "<table border=\"1\" class=\"dataframe\">\n",
       "  <thead>\n",
       "    <tr style=\"text-align: right;\">\n",
       "      <th></th>\n",
       "      <th>id_cliente</th>\n",
       "      <th>peso</th>\n",
       "      <th>colesterol</th>\n",
       "    </tr>\n",
       "  </thead>\n",
       "  <tbody>\n",
       "    <tr>\n",
       "      <th>63</th>\n",
       "      <td>64</td>\n",
       "      <td>NaN</td>\n",
       "      <td>211</td>\n",
       "    </tr>\n",
       "    <tr>\n",
       "      <th>101</th>\n",
       "      <td>102</td>\n",
       "      <td>NaN</td>\n",
       "      <td>230</td>\n",
       "    </tr>\n",
       "    <tr>\n",
       "      <th>146</th>\n",
       "      <td>147</td>\n",
       "      <td>NaN</td>\n",
       "      <td>171</td>\n",
       "    </tr>\n",
       "    <tr>\n",
       "      <th>195</th>\n",
       "      <td>196</td>\n",
       "      <td>NaN</td>\n",
       "      <td>143</td>\n",
       "    </tr>\n",
       "    <tr>\n",
       "      <th>215</th>\n",
       "      <td>216</td>\n",
       "      <td>NaN</td>\n",
       "      <td>180</td>\n",
       "    </tr>\n",
       "  </tbody>\n",
       "</table>\n",
       "</div>"
      ],
      "text/plain": [
       "     id_cliente  peso  colesterol\n",
       "63           64   NaN         211\n",
       "101         102   NaN         230\n",
       "146         147   NaN         171\n",
       "195         196   NaN         143\n",
       "215         216   NaN         180"
      ]
     },
     "execution_count": 8,
     "metadata": {},
     "output_type": "execute_result"
    }
   ],
   "source": [
    "df_dados_medicos[df_dados_medicos['peso'].isnull()]"
   ]
  },
  {
   "cell_type": "code",
   "execution_count": 9,
   "metadata": {},
   "outputs": [],
   "source": [
    "peso_medio = round(df_dados_medicos['peso'].mean(), 2)\n",
    "df_dados_medicos['peso'] = df_dados_medicos['peso'].fillna(peso_medio)"
   ]
  },
  {
   "cell_type": "code",
   "execution_count": 10,
   "metadata": {},
   "outputs": [
    {
     "name": "stdout",
     "output_type": "stream",
     "text": [
      "<class 'pandas.core.frame.DataFrame'>\n",
      "RangeIndex: 547 entries, 0 to 546\n",
      "Data columns (total 3 columns):\n",
      " #   Column      Non-Null Count  Dtype  \n",
      "---  ------      --------------  -----  \n",
      " 0   id_cliente  547 non-null    int64  \n",
      " 1   peso        547 non-null    float64\n",
      " 2   colesterol  547 non-null    int64  \n",
      "dtypes: float64(1), int64(2)\n",
      "memory usage: 12.9 KB\n"
     ]
    }
   ],
   "source": [
    "df_dados_medicos.info()"
   ]
  },
  {
   "cell_type": "markdown",
   "metadata": {},
   "source": [
    "### Dados pacientes"
   ]
  },
  {
   "cell_type": "code",
   "execution_count": 11,
   "metadata": {},
   "outputs": [
    {
     "data": {
      "text/html": [
       "<div>\n",
       "<style scoped>\n",
       "    .dataframe tbody tr th:only-of-type {\n",
       "        vertical-align: middle;\n",
       "    }\n",
       "\n",
       "    .dataframe tbody tr th {\n",
       "        vertical-align: top;\n",
       "    }\n",
       "\n",
       "    .dataframe thead th {\n",
       "        text-align: right;\n",
       "    }\n",
       "</style>\n",
       "<table border=\"1\" class=\"dataframe\">\n",
       "  <thead>\n",
       "    <tr style=\"text-align: right;\">\n",
       "      <th></th>\n",
       "      <th>id_cliente</th>\n",
       "      <th>id_estado</th>\n",
       "      <th>idade</th>\n",
       "      <th>genero</th>\n",
       "      <th>estado Civil</th>\n",
       "      <th>renda</th>\n",
       "      <th>nivel_educacao</th>\n",
       "    </tr>\n",
       "  </thead>\n",
       "  <tbody>\n",
       "    <tr>\n",
       "      <th>0</th>\n",
       "      <td>1</td>\n",
       "      <td>21</td>\n",
       "      <td>24</td>\n",
       "      <td>Feminino</td>\n",
       "      <td>Divorciado</td>\n",
       "      <td>8672.21</td>\n",
       "      <td>Superior</td>\n",
       "    </tr>\n",
       "    <tr>\n",
       "      <th>1</th>\n",
       "      <td>2</td>\n",
       "      <td>14</td>\n",
       "      <td>60</td>\n",
       "      <td>Feminino</td>\n",
       "      <td>Casado</td>\n",
       "      <td>2946.06</td>\n",
       "      <td>Superior</td>\n",
       "    </tr>\n",
       "    <tr>\n",
       "      <th>2</th>\n",
       "      <td>3</td>\n",
       "      <td>26</td>\n",
       "      <td>23</td>\n",
       "      <td>Feminino</td>\n",
       "      <td>Solteiro</td>\n",
       "      <td>5872.48</td>\n",
       "      <td>Médio</td>\n",
       "    </tr>\n",
       "    <tr>\n",
       "      <th>3</th>\n",
       "      <td>4</td>\n",
       "      <td>18</td>\n",
       "      <td>51</td>\n",
       "      <td>Masculino</td>\n",
       "      <td>Casado</td>\n",
       "      <td>7871.49</td>\n",
       "      <td>Superior</td>\n",
       "    </tr>\n",
       "    <tr>\n",
       "      <th>4</th>\n",
       "      <td>5</td>\n",
       "      <td>4</td>\n",
       "      <td>51</td>\n",
       "      <td>Outro</td>\n",
       "      <td>Viúvo</td>\n",
       "      <td>6033.31</td>\n",
       "      <td>Superior</td>\n",
       "    </tr>\n",
       "  </tbody>\n",
       "</table>\n",
       "</div>"
      ],
      "text/plain": [
       "   id_cliente  id_estado  idade     genero estado Civil    renda  \\\n",
       "0           1         21     24   Feminino   Divorciado  8672.21   \n",
       "1           2         14     60   Feminino       Casado  2946.06   \n",
       "2           3         26     23   Feminino     Solteiro  5872.48   \n",
       "3           4         18     51  Masculino       Casado  7871.49   \n",
       "4           5          4     51      Outro        Viúvo  6033.31   \n",
       "\n",
       "  nivel_educacao  \n",
       "0       Superior  \n",
       "1       Superior  \n",
       "2          Médio  \n",
       "3       Superior  \n",
       "4       Superior  "
      ]
     },
     "execution_count": 11,
     "metadata": {},
     "output_type": "execute_result"
    }
   ],
   "source": [
    "df_dados_pacientes.head(5)"
   ]
  },
  {
   "cell_type": "code",
   "execution_count": 12,
   "metadata": {},
   "outputs": [
    {
     "name": "stdout",
     "output_type": "stream",
     "text": [
      "<class 'pandas.core.frame.DataFrame'>\n",
      "RangeIndex: 1000 entries, 0 to 999\n",
      "Data columns (total 7 columns):\n",
      " #   Column          Non-Null Count  Dtype  \n",
      "---  ------          --------------  -----  \n",
      " 0   id_cliente      1000 non-null   int64  \n",
      " 1   id_estado       1000 non-null   int64  \n",
      " 2   idade           1000 non-null   int64  \n",
      " 3   genero          1000 non-null   object \n",
      " 4   estado Civil    1000 non-null   object \n",
      " 5   renda           1000 non-null   float64\n",
      " 6   nivel_educacao  1000 non-null   object \n",
      "dtypes: float64(1), int64(3), object(3)\n",
      "memory usage: 54.8+ KB\n"
     ]
    }
   ],
   "source": [
    "df_dados_pacientes.info()"
   ]
  },
  {
   "cell_type": "code",
   "execution_count": 13,
   "metadata": {},
   "outputs": [
    {
     "data": {
      "text/plain": [
       "1000"
      ]
     },
     "execution_count": 13,
     "metadata": {},
     "output_type": "execute_result"
    }
   ],
   "source": [
    "df_dados_pacientes['id_cliente'].nunique()"
   ]
  },
  {
   "cell_type": "code",
   "execution_count": 14,
   "metadata": {},
   "outputs": [
    {
     "data": {
      "text/plain": [
       "id_cliente        0\n",
       "id_estado         0\n",
       "idade             0\n",
       "genero            0\n",
       "estado Civil      0\n",
       "renda             0\n",
       "nivel_educacao    0\n",
       "dtype: int64"
      ]
     },
     "execution_count": 14,
     "metadata": {},
     "output_type": "execute_result"
    }
   ],
   "source": [
    "df_dados_pacientes.isnull().sum()"
   ]
  },
  {
   "cell_type": "markdown",
   "metadata": {},
   "source": [
    "### Estados brasileiros"
   ]
  },
  {
   "cell_type": "code",
   "execution_count": 15,
   "metadata": {},
   "outputs": [
    {
     "data": {
      "text/html": [
       "<div>\n",
       "<style scoped>\n",
       "    .dataframe tbody tr th:only-of-type {\n",
       "        vertical-align: middle;\n",
       "    }\n",
       "\n",
       "    .dataframe tbody tr th {\n",
       "        vertical-align: top;\n",
       "    }\n",
       "\n",
       "    .dataframe thead th {\n",
       "        text-align: right;\n",
       "    }\n",
       "</style>\n",
       "<table border=\"1\" class=\"dataframe\">\n",
       "  <thead>\n",
       "    <tr style=\"text-align: right;\">\n",
       "      <th></th>\n",
       "      <th>id_estado</th>\n",
       "      <th>estado</th>\n",
       "      <th>sigla_estado</th>\n",
       "      <th>pais</th>\n",
       "    </tr>\n",
       "  </thead>\n",
       "  <tbody>\n",
       "    <tr>\n",
       "      <th>0</th>\n",
       "      <td>1</td>\n",
       "      <td>Acre</td>\n",
       "      <td>AC</td>\n",
       "      <td>Brasil</td>\n",
       "    </tr>\n",
       "    <tr>\n",
       "      <th>1</th>\n",
       "      <td>2</td>\n",
       "      <td>Alagoas</td>\n",
       "      <td>AL</td>\n",
       "      <td>Brasil</td>\n",
       "    </tr>\n",
       "    <tr>\n",
       "      <th>2</th>\n",
       "      <td>3</td>\n",
       "      <td>Amapá</td>\n",
       "      <td>AP</td>\n",
       "      <td>Brasil</td>\n",
       "    </tr>\n",
       "    <tr>\n",
       "      <th>3</th>\n",
       "      <td>4</td>\n",
       "      <td>Amazonas</td>\n",
       "      <td>AM</td>\n",
       "      <td>Brasil</td>\n",
       "    </tr>\n",
       "    <tr>\n",
       "      <th>4</th>\n",
       "      <td>5</td>\n",
       "      <td>Bahia</td>\n",
       "      <td>BA</td>\n",
       "      <td>Brasil</td>\n",
       "    </tr>\n",
       "  </tbody>\n",
       "</table>\n",
       "</div>"
      ],
      "text/plain": [
       "   id_estado    estado sigla_estado    pais\n",
       "0          1      Acre           AC  Brasil\n",
       "1          2   Alagoas           AL  Brasil\n",
       "2          3     Amapá           AP  Brasil\n",
       "3          4  Amazonas           AM  Brasil\n",
       "4          5     Bahia           BA  Brasil"
      ]
     },
     "execution_count": 15,
     "metadata": {},
     "output_type": "execute_result"
    }
   ],
   "source": [
    "df_estados_brasileiro.head(5)"
   ]
  },
  {
   "cell_type": "code",
   "execution_count": 16,
   "metadata": {},
   "outputs": [
    {
     "name": "stdout",
     "output_type": "stream",
     "text": [
      "<class 'pandas.core.frame.DataFrame'>\n",
      "RangeIndex: 27 entries, 0 to 26\n",
      "Data columns (total 4 columns):\n",
      " #   Column        Non-Null Count  Dtype \n",
      "---  ------        --------------  ----- \n",
      " 0   id_estado     27 non-null     int64 \n",
      " 1   estado        27 non-null     object\n",
      " 2   sigla_estado  27 non-null     object\n",
      " 3   pais          27 non-null     object\n",
      "dtypes: int64(1), object(3)\n",
      "memory usage: 992.0+ bytes\n"
     ]
    }
   ],
   "source": [
    "df_estados_brasileiro.info()"
   ]
  },
  {
   "cell_type": "code",
   "execution_count": 17,
   "metadata": {},
   "outputs": [
    {
     "data": {
      "text/plain": [
       "id_estado       0\n",
       "estado          0\n",
       "sigla_estado    0\n",
       "pais            0\n",
       "dtype: int64"
      ]
     },
     "execution_count": 17,
     "metadata": {},
     "output_type": "execute_result"
    }
   ],
   "source": [
    "df_estados_brasileiro.isnull().sum()"
   ]
  },
  {
   "cell_type": "markdown",
   "metadata": {},
   "source": [
    "### Merge estados brasileiros e dados pacientes"
   ]
  },
  {
   "cell_type": "code",
   "execution_count": 18,
   "metadata": {},
   "outputs": [
    {
     "name": "stdout",
     "output_type": "stream",
     "text": [
      "Index(['id_cliente', 'id_estado', 'idade', 'genero', 'estado Civil', 'renda',\n",
      "       'nivel_educacao'],\n",
      "      dtype='object')\n",
      "Index(['id_estado', 'estado', 'sigla_estado', 'pais'], dtype='object')\n"
     ]
    }
   ],
   "source": [
    "print(df_dados_pacientes.columns)\n",
    "\n",
    "print(df_estados_brasileiro.columns)"
   ]
  },
  {
   "cell_type": "code",
   "execution_count": 19,
   "metadata": {},
   "outputs": [],
   "source": [
    "df_pacientes_completo = pd.merge(df_dados_pacientes, df_estados_brasileiro, on = 'id_estado', how = 'inner')"
   ]
  },
  {
   "cell_type": "markdown",
   "metadata": {},
   "source": [
    "### Merge dados médicos e dados pacientes"
   ]
  },
  {
   "cell_type": "code",
   "execution_count": 20,
   "metadata": {},
   "outputs": [
    {
     "name": "stdout",
     "output_type": "stream",
     "text": [
      "Index(['id_cliente', 'peso', 'colesterol'], dtype='object')\n",
      "Index(['id_cliente', 'id_estado', 'idade', 'genero', 'estado Civil', 'renda',\n",
      "       'nivel_educacao', 'estado', 'sigla_estado', 'pais'],\n",
      "      dtype='object')\n"
     ]
    }
   ],
   "source": [
    "print(df_dados_medicos.columns)\n",
    "\n",
    "print(df_pacientes_completo.columns)"
   ]
  },
  {
   "cell_type": "code",
   "execution_count": 34,
   "metadata": {},
   "outputs": [
    {
     "name": "stdout",
     "output_type": "stream",
     "text": [
      "(547, 3)\n",
      "(1000, 10)\n"
     ]
    }
   ],
   "source": [
    "print(df_dados_medicos.shape)\n",
    "\n",
    "print(df_pacientes_completo.shape)"
   ]
  },
  {
   "cell_type": "code",
   "execution_count": 37,
   "metadata": {},
   "outputs": [
    {
     "data": {
      "text/html": [
       "<div>\n",
       "<style scoped>\n",
       "    .dataframe tbody tr th:only-of-type {\n",
       "        vertical-align: middle;\n",
       "    }\n",
       "\n",
       "    .dataframe tbody tr th {\n",
       "        vertical-align: top;\n",
       "    }\n",
       "\n",
       "    .dataframe thead th {\n",
       "        text-align: right;\n",
       "    }\n",
       "</style>\n",
       "<table border=\"1\" class=\"dataframe\">\n",
       "  <thead>\n",
       "    <tr style=\"text-align: right;\">\n",
       "      <th></th>\n",
       "      <th>id_cliente</th>\n",
       "      <th>peso</th>\n",
       "      <th>colesterol</th>\n",
       "      <th>id_estado</th>\n",
       "      <th>idade</th>\n",
       "      <th>genero</th>\n",
       "      <th>estado Civil</th>\n",
       "      <th>renda</th>\n",
       "      <th>nivel_educacao</th>\n",
       "      <th>estado</th>\n",
       "      <th>sigla_estado</th>\n",
       "      <th>pais</th>\n",
       "    </tr>\n",
       "  </thead>\n",
       "  <tbody>\n",
       "    <tr>\n",
       "      <th>0</th>\n",
       "      <td>1</td>\n",
       "      <td>102.0</td>\n",
       "      <td>111</td>\n",
       "      <td>21</td>\n",
       "      <td>24</td>\n",
       "      <td>Feminino</td>\n",
       "      <td>Divorciado</td>\n",
       "      <td>8672.21</td>\n",
       "      <td>Superior</td>\n",
       "      <td>Rio Grande do Sul</td>\n",
       "      <td>RS</td>\n",
       "      <td>Brasil</td>\n",
       "    </tr>\n",
       "    <tr>\n",
       "      <th>1</th>\n",
       "      <td>2</td>\n",
       "      <td>115.0</td>\n",
       "      <td>135</td>\n",
       "      <td>14</td>\n",
       "      <td>60</td>\n",
       "      <td>Feminino</td>\n",
       "      <td>Casado</td>\n",
       "      <td>2946.06</td>\n",
       "      <td>Superior</td>\n",
       "      <td>Pará</td>\n",
       "      <td>PA</td>\n",
       "      <td>Brasil</td>\n",
       "    </tr>\n",
       "    <tr>\n",
       "      <th>2</th>\n",
       "      <td>3</td>\n",
       "      <td>115.0</td>\n",
       "      <td>136</td>\n",
       "      <td>26</td>\n",
       "      <td>23</td>\n",
       "      <td>Feminino</td>\n",
       "      <td>Solteiro</td>\n",
       "      <td>5872.48</td>\n",
       "      <td>Médio</td>\n",
       "      <td>Sergipe</td>\n",
       "      <td>SE</td>\n",
       "      <td>Brasil</td>\n",
       "    </tr>\n",
       "    <tr>\n",
       "      <th>3</th>\n",
       "      <td>4</td>\n",
       "      <td>140.0</td>\n",
       "      <td>167</td>\n",
       "      <td>18</td>\n",
       "      <td>51</td>\n",
       "      <td>Masculino</td>\n",
       "      <td>Casado</td>\n",
       "      <td>7871.49</td>\n",
       "      <td>Superior</td>\n",
       "      <td>Piauí</td>\n",
       "      <td>PI</td>\n",
       "      <td>Brasil</td>\n",
       "    </tr>\n",
       "    <tr>\n",
       "      <th>4</th>\n",
       "      <td>5</td>\n",
       "      <td>130.0</td>\n",
       "      <td>158</td>\n",
       "      <td>4</td>\n",
       "      <td>51</td>\n",
       "      <td>Outro</td>\n",
       "      <td>Viúvo</td>\n",
       "      <td>6033.31</td>\n",
       "      <td>Superior</td>\n",
       "      <td>Amazonas</td>\n",
       "      <td>AM</td>\n",
       "      <td>Brasil</td>\n",
       "    </tr>\n",
       "  </tbody>\n",
       "</table>\n",
       "</div>"
      ],
      "text/plain": [
       "   id_cliente   peso  colesterol  id_estado  idade     genero estado Civil  \\\n",
       "0           1  102.0         111         21     24   Feminino   Divorciado   \n",
       "1           2  115.0         135         14     60   Feminino       Casado   \n",
       "2           3  115.0         136         26     23   Feminino     Solteiro   \n",
       "3           4  140.0         167         18     51  Masculino       Casado   \n",
       "4           5  130.0         158          4     51      Outro        Viúvo   \n",
       "\n",
       "     renda nivel_educacao             estado sigla_estado    pais  \n",
       "0  8672.21       Superior  Rio Grande do Sul           RS  Brasil  \n",
       "1  2946.06       Superior               Pará           PA  Brasil  \n",
       "2  5872.48          Médio            Sergipe           SE  Brasil  \n",
       "3  7871.49       Superior              Piauí           PI  Brasil  \n",
       "4  6033.31       Superior           Amazonas           AM  Brasil  "
      ]
     },
     "execution_count": 37,
     "metadata": {},
     "output_type": "execute_result"
    }
   ],
   "source": [
    "df_dados_medicos_completo = pd.merge(df_dados_medicos, df_pacientes_completo, on = 'id_cliente')\n",
    "df_dados_medicos_completo.head(5)"
   ]
  },
  {
   "cell_type": "markdown",
   "metadata": {},
   "source": [
    "## Questão 2 \n",
    "Qual é a idade média das pessoas que residem no estado de Minas Gerais?"
   ]
  },
  {
   "cell_type": "code",
   "execution_count": 22,
   "metadata": {},
   "outputs": [
    {
     "data": {
      "text/html": [
       "<div>\n",
       "<style scoped>\n",
       "    .dataframe tbody tr th:only-of-type {\n",
       "        vertical-align: middle;\n",
       "    }\n",
       "\n",
       "    .dataframe tbody tr th {\n",
       "        vertical-align: top;\n",
       "    }\n",
       "\n",
       "    .dataframe thead th {\n",
       "        text-align: right;\n",
       "    }\n",
       "</style>\n",
       "<table border=\"1\" class=\"dataframe\">\n",
       "  <thead>\n",
       "    <tr style=\"text-align: right;\">\n",
       "      <th></th>\n",
       "      <th>id_cliente</th>\n",
       "      <th>id_estado</th>\n",
       "      <th>idade</th>\n",
       "      <th>genero</th>\n",
       "      <th>estado Civil</th>\n",
       "      <th>renda</th>\n",
       "      <th>nivel_educacao</th>\n",
       "      <th>estado</th>\n",
       "      <th>sigla_estado</th>\n",
       "      <th>pais</th>\n",
       "    </tr>\n",
       "  </thead>\n",
       "  <tbody>\n",
       "    <tr>\n",
       "      <th>0</th>\n",
       "      <td>1</td>\n",
       "      <td>21</td>\n",
       "      <td>24</td>\n",
       "      <td>Feminino</td>\n",
       "      <td>Divorciado</td>\n",
       "      <td>8672.21</td>\n",
       "      <td>Superior</td>\n",
       "      <td>Rio Grande do Sul</td>\n",
       "      <td>RS</td>\n",
       "      <td>Brasil</td>\n",
       "    </tr>\n",
       "    <tr>\n",
       "      <th>1</th>\n",
       "      <td>7</td>\n",
       "      <td>21</td>\n",
       "      <td>53</td>\n",
       "      <td>Outro</td>\n",
       "      <td>Viúvo</td>\n",
       "      <td>9074.09</td>\n",
       "      <td>Superior</td>\n",
       "      <td>Rio Grande do Sul</td>\n",
       "      <td>RS</td>\n",
       "      <td>Brasil</td>\n",
       "    </tr>\n",
       "    <tr>\n",
       "      <th>2</th>\n",
       "      <td>37</td>\n",
       "      <td>21</td>\n",
       "      <td>46</td>\n",
       "      <td>Outro</td>\n",
       "      <td>Divorciado</td>\n",
       "      <td>6599.17</td>\n",
       "      <td>Superior</td>\n",
       "      <td>Rio Grande do Sul</td>\n",
       "      <td>RS</td>\n",
       "      <td>Brasil</td>\n",
       "    </tr>\n",
       "    <tr>\n",
       "      <th>3</th>\n",
       "      <td>44</td>\n",
       "      <td>21</td>\n",
       "      <td>26</td>\n",
       "      <td>Outro</td>\n",
       "      <td>Divorciado</td>\n",
       "      <td>8440.45</td>\n",
       "      <td>Fundamental</td>\n",
       "      <td>Rio Grande do Sul</td>\n",
       "      <td>RS</td>\n",
       "      <td>Brasil</td>\n",
       "    </tr>\n",
       "    <tr>\n",
       "      <th>4</th>\n",
       "      <td>70</td>\n",
       "      <td>21</td>\n",
       "      <td>45</td>\n",
       "      <td>Feminino</td>\n",
       "      <td>Viúvo</td>\n",
       "      <td>6768.28</td>\n",
       "      <td>Fundamental</td>\n",
       "      <td>Rio Grande do Sul</td>\n",
       "      <td>RS</td>\n",
       "      <td>Brasil</td>\n",
       "    </tr>\n",
       "  </tbody>\n",
       "</table>\n",
       "</div>"
      ],
      "text/plain": [
       "   id_cliente  id_estado  idade    genero estado Civil    renda  \\\n",
       "0           1         21     24  Feminino   Divorciado  8672.21   \n",
       "1           7         21     53     Outro        Viúvo  9074.09   \n",
       "2          37         21     46     Outro   Divorciado  6599.17   \n",
       "3          44         21     26     Outro   Divorciado  8440.45   \n",
       "4          70         21     45  Feminino        Viúvo  6768.28   \n",
       "\n",
       "  nivel_educacao             estado sigla_estado    pais  \n",
       "0       Superior  Rio Grande do Sul           RS  Brasil  \n",
       "1       Superior  Rio Grande do Sul           RS  Brasil  \n",
       "2       Superior  Rio Grande do Sul           RS  Brasil  \n",
       "3    Fundamental  Rio Grande do Sul           RS  Brasil  \n",
       "4    Fundamental  Rio Grande do Sul           RS  Brasil  "
      ]
     },
     "execution_count": 22,
     "metadata": {},
     "output_type": "execute_result"
    }
   ],
   "source": [
    "df_dados_medicos_completo.head(5)"
   ]
  },
  {
   "cell_type": "code",
   "execution_count": 23,
   "metadata": {},
   "outputs": [
    {
     "data": {
      "text/plain": [
       "array(['Rio Grande do Sul', 'Pará', 'Sergipe', 'Piauí', 'Amazonas',\n",
       "       'Tocantins', 'Mato Grosso do Sul', 'Ceará', 'Alagoas',\n",
       "       'Santa Catarina', 'Espírito Santo', 'Distrito Federal', 'Paraíba',\n",
       "       'Bahia', 'Acre', 'Goiás', 'Pernambuco', 'São Paulo', 'Maranhão',\n",
       "       'Rio de Janeiro', 'Minas Gerais', 'Roraima', 'Amapá',\n",
       "       'Mato Grosso', 'Rondônia', 'Rio Grande do Norte', 'Paraná'],\n",
       "      dtype=object)"
      ]
     },
     "execution_count": 23,
     "metadata": {},
     "output_type": "execute_result"
    }
   ],
   "source": [
    "df_dados_medicos_completo['estado'].unique()"
   ]
  },
  {
   "cell_type": "code",
   "execution_count": 38,
   "metadata": {},
   "outputs": [
    {
     "data": {
      "text/plain": [
       "42.76923076923077"
      ]
     },
     "execution_count": 38,
     "metadata": {},
     "output_type": "execute_result"
    }
   ],
   "source": [
    "df_dados_medicos_completo[df_dados_medicos_completo['estado'] == 'Minas Gerais']['idade'].mean()"
   ]
  },
  {
   "cell_type": "markdown",
   "metadata": {},
   "source": [
    "## Questão 4\n",
    "Crie um gráfico de caixa (boxplot) para representar a distribuição da renda por gênero das pessoas que residem no estado de Minas Gerais e, em seguida, responda:  \n",
    "Qual é o gênero que possui maior mediana da renda representado no gráfico de caixa?"
   ]
  },
  {
   "cell_type": "code",
   "execution_count": 25,
   "metadata": {},
   "outputs": [],
   "source": [
    "import matplotlib.pyplot as plt\n",
    "import seaborn as sns\n",
    "import mplcyberpunk\n",
    "\n",
    "plt.style.use(\"cyberpunk\")"
   ]
  },
  {
   "cell_type": "code",
   "execution_count": 39,
   "metadata": {},
   "outputs": [
    {
     "data": {
      "text/html": [
       "<div>\n",
       "<style scoped>\n",
       "    .dataframe tbody tr th:only-of-type {\n",
       "        vertical-align: middle;\n",
       "    }\n",
       "\n",
       "    .dataframe tbody tr th {\n",
       "        vertical-align: top;\n",
       "    }\n",
       "\n",
       "    .dataframe thead th {\n",
       "        text-align: right;\n",
       "    }\n",
       "</style>\n",
       "<table border=\"1\" class=\"dataframe\">\n",
       "  <thead>\n",
       "    <tr style=\"text-align: right;\">\n",
       "      <th></th>\n",
       "      <th>id_cliente</th>\n",
       "      <th>peso</th>\n",
       "      <th>colesterol</th>\n",
       "      <th>id_estado</th>\n",
       "      <th>idade</th>\n",
       "      <th>genero</th>\n",
       "      <th>estado Civil</th>\n",
       "      <th>renda</th>\n",
       "      <th>nivel_educacao</th>\n",
       "      <th>estado</th>\n",
       "      <th>sigla_estado</th>\n",
       "      <th>pais</th>\n",
       "    </tr>\n",
       "  </thead>\n",
       "  <tbody>\n",
       "    <tr>\n",
       "      <th>35</th>\n",
       "      <td>36</td>\n",
       "      <td>106.0</td>\n",
       "      <td>122</td>\n",
       "      <td>13</td>\n",
       "      <td>65</td>\n",
       "      <td>Feminino</td>\n",
       "      <td>Solteiro</td>\n",
       "      <td>8339.84</td>\n",
       "      <td>Superior</td>\n",
       "      <td>Minas Gerais</td>\n",
       "      <td>MG</td>\n",
       "      <td>Brasil</td>\n",
       "    </tr>\n",
       "    <tr>\n",
       "      <th>73</th>\n",
       "      <td>74</td>\n",
       "      <td>156.0</td>\n",
       "      <td>191</td>\n",
       "      <td>13</td>\n",
       "      <td>44</td>\n",
       "      <td>Masculino</td>\n",
       "      <td>Viúvo</td>\n",
       "      <td>9336.11</td>\n",
       "      <td>Superior</td>\n",
       "      <td>Minas Gerais</td>\n",
       "      <td>MG</td>\n",
       "      <td>Brasil</td>\n",
       "    </tr>\n",
       "    <tr>\n",
       "      <th>84</th>\n",
       "      <td>85</td>\n",
       "      <td>102.0</td>\n",
       "      <td>111</td>\n",
       "      <td>13</td>\n",
       "      <td>49</td>\n",
       "      <td>Masculino</td>\n",
       "      <td>Viúvo</td>\n",
       "      <td>1610.89</td>\n",
       "      <td>Fundamental</td>\n",
       "      <td>Minas Gerais</td>\n",
       "      <td>MG</td>\n",
       "      <td>Brasil</td>\n",
       "    </tr>\n",
       "    <tr>\n",
       "      <th>98</th>\n",
       "      <td>99</td>\n",
       "      <td>97.0</td>\n",
       "      <td>106</td>\n",
       "      <td>13</td>\n",
       "      <td>18</td>\n",
       "      <td>Outro</td>\n",
       "      <td>Divorciado</td>\n",
       "      <td>9881.47</td>\n",
       "      <td>Médio</td>\n",
       "      <td>Minas Gerais</td>\n",
       "      <td>MG</td>\n",
       "      <td>Brasil</td>\n",
       "    </tr>\n",
       "    <tr>\n",
       "      <th>125</th>\n",
       "      <td>126</td>\n",
       "      <td>107.0</td>\n",
       "      <td>117</td>\n",
       "      <td>13</td>\n",
       "      <td>65</td>\n",
       "      <td>Masculino</td>\n",
       "      <td>Solteiro</td>\n",
       "      <td>1215.07</td>\n",
       "      <td>Médio</td>\n",
       "      <td>Minas Gerais</td>\n",
       "      <td>MG</td>\n",
       "      <td>Brasil</td>\n",
       "    </tr>\n",
       "  </tbody>\n",
       "</table>\n",
       "</div>"
      ],
      "text/plain": [
       "     id_cliente   peso  colesterol  id_estado  idade     genero estado Civil  \\\n",
       "35           36  106.0         122         13     65   Feminino     Solteiro   \n",
       "73           74  156.0         191         13     44  Masculino        Viúvo   \n",
       "84           85  102.0         111         13     49  Masculino        Viúvo   \n",
       "98           99   97.0         106         13     18      Outro   Divorciado   \n",
       "125         126  107.0         117         13     65  Masculino     Solteiro   \n",
       "\n",
       "       renda nivel_educacao        estado sigla_estado    pais  \n",
       "35   8339.84       Superior  Minas Gerais           MG  Brasil  \n",
       "73   9336.11       Superior  Minas Gerais           MG  Brasil  \n",
       "84   1610.89    Fundamental  Minas Gerais           MG  Brasil  \n",
       "98   9881.47          Médio  Minas Gerais           MG  Brasil  \n",
       "125  1215.07          Médio  Minas Gerais           MG  Brasil  "
      ]
     },
     "execution_count": 39,
     "metadata": {},
     "output_type": "execute_result"
    }
   ],
   "source": [
    "df_pacientes_mineiros = df_dados_medicos_completo[df_dados_medicos_completo['estado'] == 'Minas Gerais']\n",
    "df_pacientes_mineiros.head(5)"
   ]
  },
  {
   "cell_type": "code",
   "execution_count": 40,
   "metadata": {},
   "outputs": [
    {
     "data": {
      "image/png": "[encoded data removed]",
      "text/plain": [
       "<Figure size 640x480 with 1 Axes>"
      ]
     },
     "metadata": {},
     "output_type": "display_data"
    }
   ],
   "source": [
    "fig, ax = plt.subplots()\n",
    "ax = sns.boxplot(data = df_pacientes_mineiros, x = 'renda', y ='genero')\n",
    "\n",
    "plt.show()"
   ]
  },
  {
   "cell_type": "markdown",
   "metadata": {},
   "source": [
    "## Questão 6 \n",
    "Crie um gráfico de caixa (boxplot) para representar as idades das pessoas que possuem níveis de educação superior, categorizadas por seu estado civil. Em seguida, escolha o gráfico que melhor representa essa distribuição."
   ]
  },
  {
   "cell_type": "code",
   "execution_count": 41,
   "metadata": {},
   "outputs": [
    {
     "data": {
      "text/html": [
       "<div>\n",
       "<style scoped>\n",
       "    .dataframe tbody tr th:only-of-type {\n",
       "        vertical-align: middle;\n",
       "    }\n",
       "\n",
       "    .dataframe tbody tr th {\n",
       "        vertical-align: top;\n",
       "    }\n",
       "\n",
       "    .dataframe thead th {\n",
       "        text-align: right;\n",
       "    }\n",
       "</style>\n",
       "<table border=\"1\" class=\"dataframe\">\n",
       "  <thead>\n",
       "    <tr style=\"text-align: right;\">\n",
       "      <th></th>\n",
       "      <th>id_cliente</th>\n",
       "      <th>peso</th>\n",
       "      <th>colesterol</th>\n",
       "      <th>id_estado</th>\n",
       "      <th>idade</th>\n",
       "      <th>genero</th>\n",
       "      <th>estado Civil</th>\n",
       "      <th>renda</th>\n",
       "      <th>nivel_educacao</th>\n",
       "      <th>estado</th>\n",
       "      <th>sigla_estado</th>\n",
       "      <th>pais</th>\n",
       "    </tr>\n",
       "  </thead>\n",
       "  <tbody>\n",
       "    <tr>\n",
       "      <th>0</th>\n",
       "      <td>1</td>\n",
       "      <td>102.0</td>\n",
       "      <td>111</td>\n",
       "      <td>21</td>\n",
       "      <td>24</td>\n",
       "      <td>Feminino</td>\n",
       "      <td>Divorciado</td>\n",
       "      <td>8672.21</td>\n",
       "      <td>Superior</td>\n",
       "      <td>Rio Grande do Sul</td>\n",
       "      <td>RS</td>\n",
       "      <td>Brasil</td>\n",
       "    </tr>\n",
       "    <tr>\n",
       "      <th>1</th>\n",
       "      <td>2</td>\n",
       "      <td>115.0</td>\n",
       "      <td>135</td>\n",
       "      <td>14</td>\n",
       "      <td>60</td>\n",
       "      <td>Feminino</td>\n",
       "      <td>Casado</td>\n",
       "      <td>2946.06</td>\n",
       "      <td>Superior</td>\n",
       "      <td>Pará</td>\n",
       "      <td>PA</td>\n",
       "      <td>Brasil</td>\n",
       "    </tr>\n",
       "    <tr>\n",
       "      <th>3</th>\n",
       "      <td>4</td>\n",
       "      <td>140.0</td>\n",
       "      <td>167</td>\n",
       "      <td>18</td>\n",
       "      <td>51</td>\n",
       "      <td>Masculino</td>\n",
       "      <td>Casado</td>\n",
       "      <td>7871.49</td>\n",
       "      <td>Superior</td>\n",
       "      <td>Piauí</td>\n",
       "      <td>PI</td>\n",
       "      <td>Brasil</td>\n",
       "    </tr>\n",
       "    <tr>\n",
       "      <th>4</th>\n",
       "      <td>5</td>\n",
       "      <td>130.0</td>\n",
       "      <td>158</td>\n",
       "      <td>4</td>\n",
       "      <td>51</td>\n",
       "      <td>Outro</td>\n",
       "      <td>Viúvo</td>\n",
       "      <td>6033.31</td>\n",
       "      <td>Superior</td>\n",
       "      <td>Amazonas</td>\n",
       "      <td>AM</td>\n",
       "      <td>Brasil</td>\n",
       "    </tr>\n",
       "    <tr>\n",
       "      <th>6</th>\n",
       "      <td>7</td>\n",
       "      <td>114.0</td>\n",
       "      <td>131</td>\n",
       "      <td>21</td>\n",
       "      <td>53</td>\n",
       "      <td>Outro</td>\n",
       "      <td>Viúvo</td>\n",
       "      <td>9074.09</td>\n",
       "      <td>Superior</td>\n",
       "      <td>Rio Grande do Sul</td>\n",
       "      <td>RS</td>\n",
       "      <td>Brasil</td>\n",
       "    </tr>\n",
       "  </tbody>\n",
       "</table>\n",
       "</div>"
      ],
      "text/plain": [
       "   id_cliente   peso  colesterol  id_estado  idade     genero estado Civil  \\\n",
       "0           1  102.0         111         21     24   Feminino   Divorciado   \n",
       "1           2  115.0         135         14     60   Feminino       Casado   \n",
       "3           4  140.0         167         18     51  Masculino       Casado   \n",
       "4           5  130.0         158          4     51      Outro        Viúvo   \n",
       "6           7  114.0         131         21     53      Outro        Viúvo   \n",
       "\n",
       "     renda nivel_educacao             estado sigla_estado    pais  \n",
       "0  8672.21       Superior  Rio Grande do Sul           RS  Brasil  \n",
       "1  2946.06       Superior               Pará           PA  Brasil  \n",
       "3  7871.49       Superior              Piauí           PI  Brasil  \n",
       "4  6033.31       Superior           Amazonas           AM  Brasil  \n",
       "6  9074.09       Superior  Rio Grande do Sul           RS  Brasil  "
      ]
     },
     "execution_count": 41,
     "metadata": {},
     "output_type": "execute_result"
    }
   ],
   "source": [
    "df_pacientes_graduados = df_dados_medicos_completo[df_dados_medicos_completo['nivel_educacao'] == 'Superior']\n",
    "df_pacientes_graduados.head(5)"
   ]
  },
  {
   "cell_type": "code",
   "execution_count": 43,
   "metadata": {},
   "outputs": [
    {
     "data": {
      "text/plain": [
       "<Axes: xlabel='idade', ylabel='estado Civil'>"
      ]
     },
     "execution_count": 43,
     "metadata": {},
     "output_type": "execute_result"
    },
    {
     "data": {
      "image/png": "[encoded data removed]",
      "text/plain": [
       "<Figure size 640x480 with 1 Axes>"
      ]
     },
     "metadata": {},
     "output_type": "display_data"
    }
   ],
   "source": [
    "ordem = ['Divorciado', 'Viúvo', 'Casado', 'Solteiro']\n",
    "sns.boxplot(x = df_pacientes_graduados['idade'], y = df_pacientes_graduados['estado Civil'], order = ordem)"
   ]
  },
  {
   "cell_type": "markdown",
   "metadata": {},
   "source": [
    "## Questão 7\n",
    "Calcule estatísticas descritivas para a variável \"colesterol\" agrupadas por nível de educação. Em seguida, com base nas estatísticas calculadas, escolha a alternativa CORRETA."
   ]
  },
  {
   "cell_type": "code",
   "execution_count": 57,
   "metadata": {},
   "outputs": [
    {
     "data": {
      "text/html": [
       "<div>\n",
       "<style scoped>\n",
       "    .dataframe tbody tr th:only-of-type {\n",
       "        vertical-align: middle;\n",
       "    }\n",
       "\n",
       "    .dataframe tbody tr th {\n",
       "        vertical-align: top;\n",
       "    }\n",
       "\n",
       "    .dataframe thead th {\n",
       "        text-align: right;\n",
       "    }\n",
       "</style>\n",
       "<table border=\"1\" class=\"dataframe\">\n",
       "  <thead>\n",
       "    <tr style=\"text-align: right;\">\n",
       "      <th></th>\n",
       "      <th>count</th>\n",
       "      <th>mean</th>\n",
       "      <th>std</th>\n",
       "      <th>min</th>\n",
       "      <th>25%</th>\n",
       "      <th>50%</th>\n",
       "      <th>75%</th>\n",
       "      <th>max</th>\n",
       "    </tr>\n",
       "    <tr>\n",
       "      <th>nivel_educacao</th>\n",
       "      <th></th>\n",
       "      <th></th>\n",
       "      <th></th>\n",
       "      <th></th>\n",
       "      <th></th>\n",
       "      <th></th>\n",
       "      <th></th>\n",
       "      <th></th>\n",
       "    </tr>\n",
       "  </thead>\n",
       "  <tbody>\n",
       "    <tr>\n",
       "      <th>Fundamental</th>\n",
       "      <td>179.0</td>\n",
       "      <td>173.418994</td>\n",
       "      <td>37.652281</td>\n",
       "      <td>102.0</td>\n",
       "      <td>142.5</td>\n",
       "      <td>172.0</td>\n",
       "      <td>208.0</td>\n",
       "      <td>235.0</td>\n",
       "    </tr>\n",
       "    <tr>\n",
       "      <th>Médio</th>\n",
       "      <td>163.0</td>\n",
       "      <td>167.245399</td>\n",
       "      <td>40.243716</td>\n",
       "      <td>102.0</td>\n",
       "      <td>131.0</td>\n",
       "      <td>167.0</td>\n",
       "      <td>206.0</td>\n",
       "      <td>232.0</td>\n",
       "    </tr>\n",
       "    <tr>\n",
       "      <th>Superior</th>\n",
       "      <td>205.0</td>\n",
       "      <td>170.360976</td>\n",
       "      <td>39.530039</td>\n",
       "      <td>102.0</td>\n",
       "      <td>136.0</td>\n",
       "      <td>169.0</td>\n",
       "      <td>208.0</td>\n",
       "      <td>235.0</td>\n",
       "    </tr>\n",
       "  </tbody>\n",
       "</table>\n",
       "</div>"
      ],
      "text/plain": [
       "                count        mean        std    min    25%    50%    75%  \\\n",
       "nivel_educacao                                                             \n",
       "Fundamental     179.0  173.418994  37.652281  102.0  142.5  172.0  208.0   \n",
       "Médio           163.0  167.245399  40.243716  102.0  131.0  167.0  206.0   \n",
       "Superior        205.0  170.360976  39.530039  102.0  136.0  169.0  208.0   \n",
       "\n",
       "                  max  \n",
       "nivel_educacao         \n",
       "Fundamental     235.0  \n",
       "Médio           232.0  \n",
       "Superior        235.0  "
      ]
     },
     "execution_count": 57,
     "metadata": {},
     "output_type": "execute_result"
    }
   ],
   "source": [
    "df_dados_medicos_completo.groupby(['nivel_educacao'])['colesterol'].describe()"
   ]
  },
  {
   "cell_type": "markdown",
   "metadata": {},
   "source": [
    "## Questão 8\n",
    "Crie um histograma com 20 barras representando o peso das pessoas. Em seguida, com base no histograma gerado, escolha a alternativa que melhor descreve a distribuição dos pesos."
   ]
  },
  {
   "cell_type": "code",
   "execution_count": 61,
   "metadata": {},
   "outputs": [
    {
     "data": {
      "image/png": "[encoded data removed]",
      "text/plain": [
       "<Figure size 640x480 with 1 Axes>"
      ]
     },
     "metadata": {},
     "output_type": "display_data"
    }
   ],
   "source": [
    "fig, ax = plt.subplots()\n",
    "ax = sns.histplot(data = df_dados_medicos_completo, x = 'peso', bins = 20)\n",
    "\n",
    "plt.show()"
   ]
  },
  {
   "cell_type": "markdown",
   "metadata": {},
   "source": [
    "## Questão 9\n",
    "Qual é o estado cujo residente possui a maior renda, e qual é o estado civil dessa pessoa?"
   ]
  },
  {
   "cell_type": "code",
   "execution_count": 64,
   "metadata": {},
   "outputs": [
    {
     "data": {
      "text/html": [
       "<div>\n",
       "<style scoped>\n",
       "    .dataframe tbody tr th:only-of-type {\n",
       "        vertical-align: middle;\n",
       "    }\n",
       "\n",
       "    .dataframe tbody tr th {\n",
       "        vertical-align: top;\n",
       "    }\n",
       "\n",
       "    .dataframe thead th {\n",
       "        text-align: right;\n",
       "    }\n",
       "</style>\n",
       "<table border=\"1\" class=\"dataframe\">\n",
       "  <thead>\n",
       "    <tr style=\"text-align: right;\">\n",
       "      <th></th>\n",
       "      <th>id_cliente</th>\n",
       "      <th>peso</th>\n",
       "      <th>colesterol</th>\n",
       "      <th>id_estado</th>\n",
       "      <th>idade</th>\n",
       "      <th>genero</th>\n",
       "      <th>estado Civil</th>\n",
       "      <th>renda</th>\n",
       "      <th>nivel_educacao</th>\n",
       "      <th>estado</th>\n",
       "      <th>sigla_estado</th>\n",
       "      <th>pais</th>\n",
       "    </tr>\n",
       "  </thead>\n",
       "  <tbody>\n",
       "    <tr>\n",
       "      <th>216</th>\n",
       "      <td>217</td>\n",
       "      <td>203.0</td>\n",
       "      <td>235</td>\n",
       "      <td>12</td>\n",
       "      <td>31</td>\n",
       "      <td>Outro</td>\n",
       "      <td>Casado</td>\n",
       "      <td>9989.72</td>\n",
       "      <td>Superior</td>\n",
       "      <td>Mato Grosso do Sul</td>\n",
       "      <td>MS</td>\n",
       "      <td>Brasil</td>\n",
       "    </tr>\n",
       "  </tbody>\n",
       "</table>\n",
       "</div>"
      ],
      "text/plain": [
       "     id_cliente   peso  colesterol  id_estado  idade genero estado Civil  \\\n",
       "216         217  203.0         235         12     31  Outro       Casado   \n",
       "\n",
       "       renda nivel_educacao              estado sigla_estado    pais  \n",
       "216  9989.72       Superior  Mato Grosso do Sul           MS  Brasil  "
      ]
     },
     "execution_count": 64,
     "metadata": {},
     "output_type": "execute_result"
    }
   ],
   "source": [
    "df_dados_medicos_completo.sort_values(by = 'renda', ascending = False).head(1)"
   ]
  },
  {
   "cell_type": "markdown",
   "metadata": {},
   "source": [
    "## Questão 10\n",
    "Crie um gráfico de dispersão que represente as relações entre as variáveis peso (eixo x) e colesterol (eixo y) e selecione o gráfico que melhor ilustra essa relação."
   ]
  },
  {
   "cell_type": "code",
   "execution_count": 83,
   "metadata": {},
   "outputs": [
    {
     "data": {
      "text/plain": [
       "<Figure size 1000x1000 with 0 Axes>"
      ]
     },
     "metadata": {},
     "output_type": "display_data"
    },
    {
     "data": {
      "image/png": "[encoded data removed]",
      "text/plain": [
       "<Figure size 500x500 with 1 Axes>"
      ]
     },
     "metadata": {},
     "output_type": "display_data"
    }
   ],
   "source": [
    "plt.figure(figsize = (10, 10))\n",
    "sns.relplot(data = df_dados_medicos_completo, x = 'peso', y = 'colesterol');"
   ]
  },
  {
   "cell_type": "markdown",
   "metadata": {},
   "source": [
    "## Questão 11\n",
    "Ao aplicar um modelo de regressão linear usando machine learning, responda à seguinte pergunta: Qual é o valor estimado de colesterol para uma pessoa que possui um peso de 128 quilos, com base no modelo?"
   ]
  },
  {
   "cell_type": "code",
   "execution_count": 85,
   "metadata": {},
   "outputs": [],
   "source": [
    "from sklearn.linear_model import LinearRegression\n",
    "from sklearn.model_selection import train_test_split\n",
    "import numpy as np"
   ]
  },
  {
   "cell_type": "code",
   "execution_count": 91,
   "metadata": {},
   "outputs": [],
   "source": [
    "X = np.array(df_dados_medicos_completo['peso'].values.reshape(-1, 1))\n",
    "y = np.array(df_dados_medicos_completo['colesterol'].values.reshape(-1, 1))\n",
    "\n",
    "X_treino, X_teste, y_treino, y_teste = train_test_split(X, y, test_size = .2)"
   ]
  },
  {
   "cell_type": "code",
   "execution_count": 112,
   "metadata": {},
   "outputs": [
    {
     "data": {
      "text/plain": [
       "array([[151.27558018]])"
      ]
     },
     "execution_count": 112,
     "metadata": {},
     "output_type": "execute_result"
    }
   ],
   "source": [
    "regressao_linear = LinearRegression()\n",
    "modelo_reg_linear = regressao_linear.fit(X_treino, y_treino)\n",
    "modelo_reg_linear.predict([[128]])"
   ]
  },
  {
   "cell_type": "code",
   "execution_count": 108,
   "metadata": {},
   "outputs": [],
   "source": [
    "# modelo_reg_linear.score(X_treino, y_treino)"
   ]
  },
  {
   "cell_type": "markdown",
   "metadata": {},
   "source": [
    "## Questão 12\n",
    "Qual é o valor do coeficiente angular da reta?"
   ]
  },
  {
   "cell_type": "code",
   "execution_count": 113,
   "metadata": {},
   "outputs": [
    {
     "name": "stdout",
     "output_type": "stream",
     "text": [
      "O coeficiente angular do modelo criado é [[1.25652359]]\n"
     ]
    }
   ],
   "source": [
    "coeficiente_angular = modelo_reg_linear.coef_\n",
    "print(f'O coeficiente angular do modelo criado é {coeficiente_angular}')"
   ]
  },
  {
   "cell_type": "markdown",
   "metadata": {},
   "source": [
    "## Questão 13\n",
    "Qual foi o coeficiente de determinação R² do modelo?"
   ]
  },
  {
   "cell_type": "code",
   "execution_count": 119,
   "metadata": {},
   "outputs": [
    {
     "name": "stdout",
     "output_type": "stream",
     "text": [
      "O valor do R quadrado é: 0.978\n"
     ]
    }
   ],
   "source": [
    "from sklearn.metrics import r2_score\n",
    "\n",
    "y_previsto = modelo_reg_linear.predict(X_teste)\n",
    "\n",
    "r2 = r2_score(y_teste, y_previsto)\n",
    "print('O valor do R quadrado é:', round(r2, 3))"
   ]
  },
  {
   "cell_type": "markdown",
   "metadata": {},
   "source": [
    "## Questão 14\n",
    "Qual o valor do mean absolute error do modelo criado?"
   ]
  },
  {
   "cell_type": "code",
   "execution_count": 125,
   "metadata": {},
   "outputs": [
    {
     "name": "stdout",
     "output_type": "stream",
     "text": [
      "O valor do mean absolute error é: 4.799\n"
     ]
    }
   ],
   "source": [
    "from sklearn.metrics import mean_absolute_error\n",
    "\n",
    "mae = mean_absolute_error(y_teste, y_previsto)\n",
    "print('O valor do mean absolute error é:', round(mae, 3))"
   ]
  },
  {
   "cell_type": "markdown",
   "metadata": {},
   "source": [
    "## Questão 15\n",
    "Qual o valor do mean squared error do modelo criado?"
   ]
  },
  {
   "cell_type": "code",
   "execution_count": 126,
   "metadata": {},
   "outputs": [
    {
     "name": "stdout",
     "output_type": "stream",
     "text": [
      "O valor do mean squared error é: 35.633\n"
     ]
    }
   ],
   "source": [
    "from sklearn.metrics import mean_squared_error\n",
    "\n",
    "mse = mean_squared_error(y_teste, y_previsto)\n",
    "print('O valor do mean squared error é:', round(mse, 3))"
   ]
  }
 ],
 "metadata": {
  "kernelspec": {
   "display_name": "Python 3",
   "language": "python",
   "name": "python3"
  },
  "language_info": {
   "codemirror_mode": {
    "name": "ipython",
    "version": 3
   },
   "file_extension": ".py",
   "mimetype": "text/x-python",
   "name": "python",
   "nbconvert_exporter": "python",
   "pygments_lexer": "ipython3",
   "version": "3.11.1"
  }
 },
 "nbformat": 4,
 "nbformat_minor": 2
}
